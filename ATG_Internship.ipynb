{
 "cells": [
  {
   "cell_type": "code",
   "execution_count": 3,
   "metadata": {},
   "outputs": [],
   "source": [
    "from selenium import webdriver\n",
    "import time\n",
    "\n",
    "def test_case_1():\n",
    "    browser.get('https://www.atg.party')\n",
    "    time.sleep(3)\n",
    "    login = browser.find_element_by_link_text('Login')\n",
    "    login.click()\n",
    "    time.sleep(0.5)\n",
    "    email = browser.find_element_by_id('email')\n",
    "    email.send_keys('hello@atg.world')\n",
    "    password = browser.find_element_by_id('password')\n",
    "    password.send_keys('Pass@123')\n",
    "    sign = browser.find_element_by_class_name('btns-loger')\n",
    "    sign.click()\n",
    "    time.sleep(7)\n",
    "\n",
    "def test_case_2():\n",
    "    test_case_1()\n",
    "    browser.get('https://www.atg.party/article')\n",
    "    time.sleep(3)\n",
    "    title = browser.find_element_by_id('title')\n",
    "    title.send_keys('Final Test Case')\n",
    "    desc = browser.find_element_by_class_name('fr-element.fr-view')\n",
    "    desc.send_keys('This is my final test case.')\n",
    "    time.sleep(0.5)\n",
    "    post = browser.find_elements_by_id('featurebutton')\n",
    "    post[-1].click()\n",
    "    time.sleep(7)\n",
    "    \n",
    "    \n",
    "path = r'D:\\PycharmProjects\\Coding_Elements\\Web Development\\chromedriver.exe'\n",
    "browser = webdriver.Chrome(path)\n",
    "test_case_2()\n",
    "\n",
    "\n",
    "    "
   ]
  },
  {
   "cell_type": "code",
   "execution_count": null,
   "metadata": {},
   "outputs": [],
   "source": []
  }
 ],
 "metadata": {
  "kernelspec": {
   "display_name": "Python 3",
   "language": "python",
   "name": "python3"
  },
  "language_info": {
   "codemirror_mode": {
    "name": "ipython",
    "version": 3
   },
   "file_extension": ".py",
   "mimetype": "text/x-python",
   "name": "python",
   "nbconvert_exporter": "python",
   "pygments_lexer": "ipython3",
   "version": "3.7.4"
  }
 },
 "nbformat": 4,
 "nbformat_minor": 2
}
